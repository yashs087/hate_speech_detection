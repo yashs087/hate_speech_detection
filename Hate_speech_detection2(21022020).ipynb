{
  "nbformat": 4,
  "nbformat_minor": 0,
  "metadata": {
    "colab": {
      "name": "shailja_mam_hate_dataset2(21022020).ipynb",
      "provenance": [],
      "authorship_tag": "ABX9TyP4FmGJEm2HcUIt1OxLw2WG",
      "include_colab_link": true
    },
    "kernelspec": {
      "name": "python3",
      "display_name": "Python 3"
    }
  },
  "cells": [
    {
      "cell_type": "markdown",
      "metadata": {
        "id": "view-in-github",
        "colab_type": "text"
      },
      "source": [
        "<a href=\"https://colab.research.google.com/github/yashs087/hate_speech_detection/blob/master/Hate_speech_detection2(21022020).ipynb\" target=\"_parent\"><img src=\"https://colab.research.google.com/assets/colab-badge.svg\" alt=\"Open In Colab\"/></a>"
      ]
    },
    {
      "cell_type": "code",
      "metadata": {
        "id": "4qNuZglQz-49",
        "colab_type": "code",
        "colab": {}
      },
      "source": [
        "import pandas as pd\n",
        "import numpy as np\n",
        "#mport pickle\n",
        "#import sys\n",
        "from sklearn.feature_extraction.text import TfidfVectorizer #vectorizer to change and test\n",
        "import nltk #natural language tool kit\n",
        "from nltk.stem.porter import *\n",
        "import string\n",
        "import re #regular expression\n",
        "#from textstat.textstat import *\n",
        "from sklearn.feature_selection import SelectFromModel\n",
        "from sklearn.metrics import classification_report\n",
        "from sklearn.metrics import confusion_matrix"
      ],
      "execution_count": 0,
      "outputs": []
    },
    {
      "cell_type": "code",
      "metadata": {
        "id": "M8KYB1BI57D3",
        "colab_type": "code",
        "colab": {}
      },
      "source": [
        "from sklearn.linear_model import LogisticRegression\n",
        "from sklearn.feature_selection import SelectFromModel\n",
        "from sklearn.metrics import classification_report\n",
        "from sklearn.svm import LinearSVC\n",
        "from sklearn.naive_bayes import GaussianNB\n",
        "from sklearn.linear_model import SGDClassifier\n",
        "from sklearn.neighbors import KNeighborsClassifier\n",
        "from sklearn.tree import DecisionTreeClassifier\n",
        "from sklearn.ensemble import RandomForestClassifier\n",
        "from sklearn.neural_network import MLPClassifier"
      ],
      "execution_count": 0,
      "outputs": []
    },
    {
      "cell_type": "code",
      "metadata": {
        "id": "RdQKw_tL0tin",
        "colab_type": "code",
        "outputId": "f5793dd4-e246-4097-d78b-99bedf6aab01",
        "colab": {
          "base_uri": "https://localhost:8080/",
          "height": 198
        }
      },
      "source": [
        "data= pd.read_csv(\"/content/dataset2.csv\")\n",
        "data.head()"
      ],
      "execution_count": 0,
      "outputs": [
        {
          "output_type": "execute_result",
          "data": {
            "text/html": [
              "<div>\n",
              "<style scoped>\n",
              "    .dataframe tbody tr th:only-of-type {\n",
              "        vertical-align: middle;\n",
              "    }\n",
              "\n",
              "    .dataframe tbody tr th {\n",
              "        vertical-align: top;\n",
              "    }\n",
              "\n",
              "    .dataframe thead th {\n",
              "        text-align: right;\n",
              "    }\n",
              "</style>\n",
              "<table border=\"1\" class=\"dataframe\">\n",
              "  <thead>\n",
              "    <tr style=\"text-align: right;\">\n",
              "      <th></th>\n",
              "      <th>Label</th>\n",
              "      <th>Comment</th>\n",
              "    </tr>\n",
              "  </thead>\n",
              "  <tbody>\n",
              "    <tr>\n",
              "      <th>0</th>\n",
              "      <td>1</td>\n",
              "      <td>\"You fuck your dad.\"</td>\n",
              "    </tr>\n",
              "    <tr>\n",
              "      <th>1</th>\n",
              "      <td>0</td>\n",
              "      <td>\"i really don't understand your point.\\xa0 It ...</td>\n",
              "    </tr>\n",
              "    <tr>\n",
              "      <th>2</th>\n",
              "      <td>0</td>\n",
              "      <td>\"A\\\\xc2\\\\xa0majority of Canadians can and has ...</td>\n",
              "    </tr>\n",
              "    <tr>\n",
              "      <th>3</th>\n",
              "      <td>0</td>\n",
              "      <td>\"listen if you dont wanna get married to a man...</td>\n",
              "    </tr>\n",
              "    <tr>\n",
              "      <th>4</th>\n",
              "      <td>0</td>\n",
              "      <td>\"C\\xe1c b\\u1ea1n xu\\u1ed1ng \\u0111\\u01b0\\u1edd...</td>\n",
              "    </tr>\n",
              "  </tbody>\n",
              "</table>\n",
              "</div>"
            ],
            "text/plain": [
              "   Label                                            Comment\n",
              "0      1                               \"You fuck your dad.\"\n",
              "1      0  \"i really don't understand your point.\\xa0 It ...\n",
              "2      0  \"A\\\\xc2\\\\xa0majority of Canadians can and has ...\n",
              "3      0  \"listen if you dont wanna get married to a man...\n",
              "4      0  \"C\\xe1c b\\u1ea1n xu\\u1ed1ng \\u0111\\u01b0\\u1edd..."
            ]
          },
          "metadata": {
            "tags": []
          },
          "execution_count": 13
        }
      ]
    },
    {
      "cell_type": "code",
      "metadata": {
        "id": "dYfvWzr0055i",
        "colab_type": "code",
        "outputId": "dc646cfe-cd3c-4fd7-aad1-8755b13d298b",
        "colab": {
          "base_uri": "https://localhost:8080/",
          "height": 34
        }
      },
      "source": [
        "len(data)"
      ],
      "execution_count": 0,
      "outputs": [
        {
          "output_type": "execute_result",
          "data": {
            "text/plain": [
              "3947"
            ]
          },
          "metadata": {
            "tags": []
          },
          "execution_count": 14
        }
      ]
    },
    {
      "cell_type": "code",
      "metadata": {
        "id": "8FVc30mz3ezI",
        "colab_type": "code",
        "outputId": "2c855006-56c7-46c1-cdba-d0b5d23bf569",
        "colab": {
          "base_uri": "https://localhost:8080/",
          "height": 34
        }
      },
      "source": [
        "set(data[\"Label\"])"
      ],
      "execution_count": 0,
      "outputs": [
        {
          "output_type": "execute_result",
          "data": {
            "text/plain": [
              "{0, 1}"
            ]
          },
          "metadata": {
            "tags": []
          },
          "execution_count": 16
        }
      ]
    },
    {
      "cell_type": "code",
      "metadata": {
        "id": "cu5X17Hm1XHr",
        "colab_type": "code",
        "outputId": "e324df38-30b5-4396-f36f-92ef373995b0",
        "colab": {
          "base_uri": "https://localhost:8080/",
          "height": 34
        }
      },
      "source": [
        "list(data[\"Label\"]).count(0)"
      ],
      "execution_count": 0,
      "outputs": [
        {
          "output_type": "execute_result",
          "data": {
            "text/plain": [
              "2898"
            ]
          },
          "metadata": {
            "tags": []
          },
          "execution_count": 17
        }
      ]
    },
    {
      "cell_type": "code",
      "metadata": {
        "id": "-yBmL6Oq3JbO",
        "colab_type": "code",
        "outputId": "e2200df4-092e-45d8-913e-b9a5f9af4e55",
        "colab": {
          "base_uri": "https://localhost:8080/",
          "height": 34
        }
      },
      "source": [
        "list(data[\"Label\"]).count(1)"
      ],
      "execution_count": 0,
      "outputs": [
        {
          "output_type": "execute_result",
          "data": {
            "text/plain": [
              "1049"
            ]
          },
          "metadata": {
            "tags": []
          },
          "execution_count": 18
        }
      ]
    },
    {
      "cell_type": "code",
      "metadata": {
        "id": "YJS9zJhR3vfx",
        "colab_type": "code",
        "outputId": "b2a84e10-b05c-430f-ff31-37dcb0873137",
        "colab": {
          "base_uri": "https://localhost:8080/",
          "height": 69
        }
      },
      "source": [
        "nltk.download('stopwords')"
      ],
      "execution_count": 0,
      "outputs": [
        {
          "output_type": "stream",
          "text": [
            "[nltk_data] Downloading package stopwords to /root/nltk_data...\n",
            "[nltk_data]   Unzipping corpora/stopwords.zip.\n"
          ],
          "name": "stdout"
        },
        {
          "output_type": "execute_result",
          "data": {
            "text/plain": [
              "True"
            ]
          },
          "metadata": {
            "tags": []
          },
          "execution_count": 25
        }
      ]
    },
    {
      "cell_type": "code",
      "metadata": {
        "id": "R7SSh6vD4vJk",
        "colab_type": "code",
        "colab": {}
      },
      "source": [
        "tweets = data.Comment\n",
        "\n",
        "stopwords=stopwords = nltk.corpus.stopwords.words(\"english\")  #removing stopwords for better performance\n",
        "\n",
        "stemmer = PorterStemmer() #algorithm for for removing the common morphological and inflexional endings from words in English.\n",
        "\n",
        "def preprocess(text_string):\n",
        "    \"\"\"\n",
        "    Accepts a text string and replaces:\n",
        "    1) urls with URLHERE\n",
        "    2) lots of whitespace with one instance\n",
        "    3) mentions with MENTIONHERE\n",
        "\n",
        "    This allows us to get standardized counts of urls and mentions\n",
        "    Without caring about specific people mentioned\n",
        "    \"\"\"\n",
        "    space_pattern = '\\s+'\n",
        "    giant_url_regex = ('http[s]?://(?:[a-zA-Z]|[0-9]|[$-_@.&+]|'\n",
        "                       '[!*\\(\\),]|(?:%[0-9a-fA-F][0-9a-fA-F]))+')\n",
        "    mention_regex = '@[\\w\\-]+'\n",
        "    parsed_text = re.sub(space_pattern, ' ', text_string)\n",
        "    parsed_text = re.sub(giant_url_regex, '', parsed_text)\n",
        "    parsed_text = re.sub(mention_regex, '', parsed_text)\n",
        "    return parsed_text\n",
        "\n",
        "def tokenize(tweet):\n",
        "    \"\"\"Removes punctuation & excess whitespace, sets to lowercase,\n",
        "    and stems tweets. Returns a list of stemmed tokens.\"\"\"\n",
        "    tweet = \" \".join(re.split(\"[^a-zA-Z]*\", tweet.lower())).strip()\n",
        "    tokens = [stemmer.stem(t) for t in tweet.split() if t not in stopwords and len(t)> 2]\n",
        "    tokens = [t for t in tokens if len(t)>2]\n",
        "    return tokens"
      ],
      "execution_count": 0,
      "outputs": []
    },
    {
      "cell_type": "code",
      "metadata": {
        "id": "RUVISZR35HWh",
        "colab_type": "code",
        "colab": {}
      },
      "source": [
        "vectorizer = TfidfVectorizer( #An alternative is to calculate word frequencies, and by far the most popular method is called TF-IDF\n",
        "    tokenizer=tokenize,\n",
        "    preprocessor=preprocess,\n",
        "    ngram_range=(1, 3), #an n-gram is a contiguous sequence of n items from a given sample of text\n",
        "    stop_words=stopwords,\n",
        "    use_idf=True,\n",
        "    smooth_idf=False,\n",
        "    norm=None,\n",
        "    decode_error='replace',\n",
        "    max_features=10000,\n",
        "    min_df=5,\n",
        "    max_df=0.75\n",
        "    )"
      ],
      "execution_count": 0,
      "outputs": []
    },
    {
      "cell_type": "code",
      "metadata": {
        "id": "nhWzd7YS5R8S",
        "colab_type": "code",
        "outputId": "8c1a49b0-cd38-40cc-fd45-7b2796db4e28",
        "colab": {
          "base_uri": "https://localhost:8080/",
          "height": 52
        }
      },
      "source": [
        "tfidf=vectorizer.fit_transform(tweets).toarray()"
      ],
      "execution_count": 0,
      "outputs": [
        {
          "output_type": "stream",
          "text": [
            "/usr/lib/python3.6/re.py:212: FutureWarning: split() requires a non-empty pattern match.\n",
            "  return _compile(pattern, flags).split(string, maxsplit)\n"
          ],
          "name": "stderr"
        }
      ]
    },
    {
      "cell_type": "code",
      "metadata": {
        "id": "FQRTcluA5Wg5",
        "colab_type": "code",
        "colab": {}
      },
      "source": [
        "x = tfidf\n",
        "y = data['Label'].astype(int)"
      ],
      "execution_count": 0,
      "outputs": []
    },
    {
      "cell_type": "code",
      "metadata": {
        "id": "4Z8zqHvE5f3U",
        "colab_type": "code",
        "colab": {}
      },
      "source": [
        "from sklearn.model_selection import train_test_split\n",
        "X_train, X_test, y_train, y_test = train_test_split(x, y, random_state=42, test_size=0.35)"
      ],
      "execution_count": 0,
      "outputs": []
    },
    {
      "cell_type": "code",
      "metadata": {
        "id": "PSq9vquX5l5M",
        "colab_type": "code",
        "colab": {}
      },
      "source": [
        "classifiers = [\n",
        "    LogisticRegression(),\n",
        "    LinearSVC(),\n",
        "    GaussianNB(),\n",
        "    SGDClassifier(),\n",
        "    KNeighborsClassifier(),\n",
        "    DecisionTreeClassifier(),\n",
        "    RandomForestClassifier(),\n",
        "    MLPClassifier()\n",
        "]"
      ],
      "execution_count": 0,
      "outputs": []
    },
    {
      "cell_type": "code",
      "metadata": {
        "id": "UiQHMIiP6F0r",
        "colab_type": "code",
        "colab": {}
      },
      "source": [
        "def df(report):\n",
        "    report_data = []\n",
        "    lines = report.split('\\n')\n",
        "    for line in lines[2:-3]:\n",
        "        row = {}\n",
        "        row_data = line.split('      ')\n",
        "        row['class'] = row_data[0]\n",
        "        row['precision'] = float(row_data[1])\n",
        "        row['recall'] = float(row_data[2])\n",
        "        row['f1_score'] = float(row_data[3])\n",
        "        row['support'] = float(row_data[4])\n",
        "        report_data.append(row)\n",
        "    dataframe = pd.DataFrame.from_dict(report_data)\n",
        "    return dataframe"
      ],
      "execution_count": 0,
      "outputs": []
    },
    {
      "cell_type": "code",
      "metadata": {
        "id": "7Iw9qzAW6Jru",
        "colab_type": "code",
        "outputId": "f426b2db-01a5-4ba9-a50e-223460fe1fa9",
        "colab": {
          "base_uri": "https://localhost:8080/",
          "height": 1000
        }
      },
      "source": [
        "Results=[]\n",
        "for i,item in enumerate(classifiers):\n",
        "    clf = item\n",
        "    clf.fit(X_train, y_train)\n",
        "    print(item,'\\n')\n",
        "    y_preds = clf.predict(X_test)\n",
        "    report = classification_report( y_test, y_preds,output_dict=True)\n",
        "    Results.append(report)\n",
        "    print(report,\"\\n\")\n",
        "    print(confusion_matrix(y_test, y_preds),\"\\n\\n\\n\")\n"
      ],
      "execution_count": 0,
      "outputs": [
        {
          "output_type": "stream",
          "text": [
            "LogisticRegression(C=1.0, class_weight=None, dual=False, fit_intercept=True,\n",
            "                   intercept_scaling=1, l1_ratio=None, max_iter=100,\n",
            "                   multi_class='auto', n_jobs=None, penalty='l2',\n",
            "                   random_state=None, solver='lbfgs', tol=0.0001, verbose=0,\n",
            "                   warm_start=False) \n",
            "\n",
            "{'0': {'precision': 0.8519607843137255, 'recall': 0.8544739429695182, 'f1-score': 0.8532155130093275, 'support': 1017}, '1': {'precision': 0.5911602209944752, 'recall': 0.5863013698630137, 'f1-score': 0.5887207702888584, 'support': 365}, 'accuracy': 0.7836468885672938, 'macro avg': {'precision': 0.7215605026541003, 'recall': 0.7203876564162659, 'f1-score': 0.720968141649093, 'support': 1382}, 'weighted avg': {'precision': 0.7830807513097265, 'recall': 0.7836468885672938, 'f1-score': 0.7833598103371342, 'support': 1382}} \n",
            "\n",
            "[[869 148]\n",
            " [151 214]] \n",
            "\n",
            "\n",
            "\n",
            "LinearSVC(C=1.0, class_weight=None, dual=True, fit_intercept=True,\n",
            "          intercept_scaling=1, loss='squared_hinge', max_iter=1000,\n",
            "          multi_class='ovr', penalty='l2', random_state=None, tol=0.0001,\n",
            "          verbose=0) \n",
            "\n",
            "{'0': {'precision': 0.84375, 'recall': 0.7964601769911505, 'f1-score': 0.819423368740516, 'support': 1017}, '1': {'precision': 0.509478672985782, 'recall': 0.589041095890411, 'f1-score': 0.5463786531130878, 'support': 365}, 'accuracy': 0.7416787264833574, 'macro avg': {'precision': 0.6766143364928909, 'recall': 0.6927506364407807, 'f1-score': 0.6829010109268019, 'support': 1382}, 'weighted avg': {'precision': 0.755465604659776, 'recall': 0.7416787264833574, 'f1-score': 0.747309532847599, 'support': 1382}} \n",
            "\n",
            "[[810 207]\n",
            " [150 215]] \n",
            "\n",
            "\n"
          ],
          "name": "stdout"
        },
        {
          "output_type": "stream",
          "text": [
            "/usr/local/lib/python3.6/dist-packages/sklearn/svm/_base.py:947: ConvergenceWarning: Liblinear failed to converge, increase the number of iterations.\n",
            "  \"the number of iterations.\", ConvergenceWarning)\n"
          ],
          "name": "stderr"
        },
        {
          "output_type": "stream",
          "text": [
            "\n",
            "GaussianNB(priors=None, var_smoothing=1e-09) \n",
            "\n",
            "{'0': {'precision': 0.797768479776848, 'recall': 0.5624385447394297, 'f1-score': 0.6597462514417531, 'support': 1017}, '1': {'precision': 0.3308270676691729, 'recall': 0.6027397260273972, 'f1-score': 0.42718446601941745, 'support': 365}, 'accuracy': 0.573082489146165, 'macro avg': {'precision': 0.5642977737230104, 'recall': 0.5825891353834134, 'f1-score': 0.5434653587305853, 'support': 1382}, 'weighted avg': {'precision': 0.6744445901825633, 'recall': 0.573082489146165, 'f1-score': 0.598324361659443, 'support': 1382}} \n",
            "\n",
            "[[572 445]\n",
            " [145 220]] \n",
            "\n",
            "\n",
            "\n",
            "SGDClassifier(alpha=0.0001, average=False, class_weight=None,\n",
            "              early_stopping=False, epsilon=0.1, eta0=0.0, fit_intercept=True,\n",
            "              l1_ratio=0.15, learning_rate='optimal', loss='hinge',\n",
            "              max_iter=1000, n_iter_no_change=5, n_jobs=None, penalty='l2',\n",
            "              power_t=0.5, random_state=None, shuffle=True, tol=0.001,\n",
            "              validation_fraction=0.1, verbose=0, warm_start=False) \n",
            "\n",
            "{'0': {'precision': 0.8459979736575481, 'recall': 0.8210422812192724, 'f1-score': 0.8333333333333333, 'support': 1017}, '1': {'precision': 0.5392405063291139, 'recall': 0.5835616438356165, 'f1-score': 0.5605263157894737, 'support': 365}, 'accuracy': 0.7583212735166426, 'macro avg': {'precision': 0.6926192399933311, 'recall': 0.7023019625274445, 'f1-score': 0.6969298245614035, 'support': 1382}, 'weighted avg': {'precision': 0.764980263400762, 'recall': 0.7583212735166426, 'f1-score': 0.7612822758778276, 'support': 1382}} \n",
            "\n",
            "[[835 182]\n",
            " [152 213]] \n",
            "\n",
            "\n",
            "\n",
            "KNeighborsClassifier(algorithm='auto', leaf_size=30, metric='minkowski',\n",
            "                     metric_params=None, n_jobs=None, n_neighbors=5, p=2,\n",
            "                     weights='uniform') \n",
            "\n",
            "{'0': {'precision': 0.7839607201309329, 'recall': 0.9419862340216323, 'f1-score': 0.8557391692719963, 'support': 1017}, '1': {'precision': 0.63125, 'recall': 0.27671232876712326, 'f1-score': 0.3847619047619047, 'support': 365}, 'accuracy': 0.7662807525325616, 'macro avg': {'precision': 0.7076053600654664, 'recall': 0.6093492813943777, 'f1-score': 0.6202505370169505, 'support': 1382}, 'weighted avg': {'precision': 0.7436282940471481, 'recall': 0.7662807525325616, 'f1-score': 0.7313493707581155, 'support': 1382}} \n",
            "\n",
            "[[958  59]\n",
            " [264 101]] \n",
            "\n",
            "\n",
            "\n",
            "DecisionTreeClassifier(ccp_alpha=0.0, class_weight=None, criterion='gini',\n",
            "                       max_depth=None, max_features=None, max_leaf_nodes=None,\n",
            "                       min_impurity_decrease=0.0, min_impurity_split=None,\n",
            "                       min_samples_leaf=1, min_samples_split=2,\n",
            "                       min_weight_fraction_leaf=0.0, presort='deprecated',\n",
            "                       random_state=None, splitter='best') \n",
            "\n",
            "{'0': {'precision': 0.853125, 'recall': 0.8053097345132744, 'f1-score': 0.8285280728376327, 'support': 1017}, '1': {'precision': 0.5308056872037915, 'recall': 0.6136986301369863, 'f1-score': 0.5692503176620076, 'support': 365}, 'accuracy': 0.7547033285094067, 'macro avg': {'precision': 0.6919653436018958, 'recall': 0.7095041823251304, 'f1-score': 0.6988891952498202, 'support': 1382}, 'weighted avg': {'precision': 0.7679972509619276, 'recall': 0.7547033285094067, 'f1-score': 0.760050228670409, 'support': 1382}} \n",
            "\n",
            "[[819 198]\n",
            " [141 224]] \n",
            "\n",
            "\n",
            "\n",
            "RandomForestClassifier(bootstrap=True, ccp_alpha=0.0, class_weight=None,\n",
            "                       criterion='gini', max_depth=None, max_features='auto',\n",
            "                       max_leaf_nodes=None, max_samples=None,\n",
            "                       min_impurity_decrease=0.0, min_impurity_split=None,\n",
            "                       min_samples_leaf=1, min_samples_split=2,\n",
            "                       min_weight_fraction_leaf=0.0, n_estimators=100,\n",
            "                       n_jobs=None, oob_score=False, random_state=None,\n",
            "                       verbose=0, warm_start=False) \n",
            "\n",
            "{'0': {'precision': 0.8583650190114068, 'recall': 0.887905604719764, 'f1-score': 0.8728854519091348, 'support': 1017}, '1': {'precision': 0.6545454545454545, 'recall': 0.5917808219178082, 'f1-score': 0.6215827338129496, 'support': 365}, 'accuracy': 0.8096960926193922, 'macro avg': {'precision': 0.7564552367784307, 'recall': 0.7398432133187861, 'f1-score': 0.7472340928610421, 'support': 1382}, 'weighted avg': {'precision': 0.8045342367899361, 'recall': 0.8096960926193922, 'f1-score': 0.806513894669549, 'support': 1382}} \n",
            "\n",
            "[[903 114]\n",
            " [149 216]] \n",
            "\n",
            "\n",
            "\n",
            "MLPClassifier(activation='relu', alpha=0.0001, batch_size='auto', beta_1=0.9,\n",
            "              beta_2=0.999, early_stopping=False, epsilon=1e-08,\n",
            "              hidden_layer_sizes=(100,), learning_rate='constant',\n",
            "              learning_rate_init=0.001, max_fun=15000, max_iter=200,\n",
            "              momentum=0.9, n_iter_no_change=10, nesterovs_momentum=True,\n",
            "              power_t=0.5, random_state=None, shuffle=True, solver='adam',\n",
            "              tol=0.0001, validation_fraction=0.1, verbose=False,\n",
            "              warm_start=False) \n",
            "\n",
            "{'0': {'precision': 0.8446139180171592, 'recall': 0.8711897738446411, 'f1-score': 0.8576960309777347, 'support': 1017}, '1': {'precision': 0.6066066066066066, 'recall': 0.5534246575342465, 'f1-score': 0.5787965616045845, 'support': 365}, 'accuracy': 0.7872648335745297, 'macro avg': {'precision': 0.725610262311883, 'recall': 0.7123072156894439, 'f1-score': 0.7182462962911595, 'support': 1382}, 'weighted avg': {'precision': 0.7817538104449077, 'recall': 0.7872648335745297, 'f1-score': 0.7840358961577637, 'support': 1382}} \n",
            "\n",
            "[[886 131]\n",
            " [163 202]] \n",
            "\n",
            "\n",
            "\n"
          ],
          "name": "stdout"
        }
      ]
    },
    {
      "cell_type": "code",
      "metadata": {
        "id": "tQZ9Fa7j6RTD",
        "colab_type": "code",
        "colab": {}
      },
      "source": [
        "lr=pd.DataFrame(Results[0]).transpose()\n",
        "svc=pd.DataFrame(Results[1]).transpose()\n",
        "gnb=pd.DataFrame(Results[2]).transpose()\n",
        "sgd=pd.DataFrame(Results[3]).transpose()\n",
        "knn=pd.DataFrame(Results[4]).transpose()\n",
        "tree=pd.DataFrame(Results[5]).transpose()\n",
        "forest=pd.DataFrame(Results[6]).transpose()\n",
        "mlp=pd.DataFrame(Results[7]).transpose()"
      ],
      "execution_count": 0,
      "outputs": []
    },
    {
      "cell_type": "code",
      "metadata": {
        "id": "Qr6_XhiL6X3N",
        "colab_type": "code",
        "colab": {}
      },
      "source": [
        "result = pd.concat([lr,svc,gnb,sgd,knn,tree,forest,mlp], keys=['LogisticRegression','LinearSVC','GaussianNB','SGDClassifier','KNeighborsClassifier','DecisionTreeClassifier','RandomForestClassifier','MLPClassifier'])"
      ],
      "execution_count": 0,
      "outputs": []
    },
    {
      "cell_type": "code",
      "metadata": {
        "id": "Bh_9rsKL6Zbg",
        "colab_type": "code",
        "outputId": "29ecafc9-2f6f-47ab-b73f-09700332b4bf",
        "colab": {
          "base_uri": "https://localhost:8080/",
          "height": 1000
        }
      },
      "source": [
        "result"
      ],
      "execution_count": 0,
      "outputs": [
        {
          "output_type": "execute_result",
          "data": {
            "text/html": [
              "<div>\n",
              "<style scoped>\n",
              "    .dataframe tbody tr th:only-of-type {\n",
              "        vertical-align: middle;\n",
              "    }\n",
              "\n",
              "    .dataframe tbody tr th {\n",
              "        vertical-align: top;\n",
              "    }\n",
              "\n",
              "    .dataframe thead th {\n",
              "        text-align: right;\n",
              "    }\n",
              "</style>\n",
              "<table border=\"1\" class=\"dataframe\">\n",
              "  <thead>\n",
              "    <tr style=\"text-align: right;\">\n",
              "      <th></th>\n",
              "      <th></th>\n",
              "      <th>precision</th>\n",
              "      <th>recall</th>\n",
              "      <th>f1-score</th>\n",
              "      <th>support</th>\n",
              "    </tr>\n",
              "  </thead>\n",
              "  <tbody>\n",
              "    <tr>\n",
              "      <th rowspan=\"5\" valign=\"top\">LogisticRegression</th>\n",
              "      <th>0</th>\n",
              "      <td>0.851961</td>\n",
              "      <td>0.854474</td>\n",
              "      <td>0.853216</td>\n",
              "      <td>1017.000000</td>\n",
              "    </tr>\n",
              "    <tr>\n",
              "      <th>1</th>\n",
              "      <td>0.591160</td>\n",
              "      <td>0.586301</td>\n",
              "      <td>0.588721</td>\n",
              "      <td>365.000000</td>\n",
              "    </tr>\n",
              "    <tr>\n",
              "      <th>accuracy</th>\n",
              "      <td>0.783647</td>\n",
              "      <td>0.783647</td>\n",
              "      <td>0.783647</td>\n",
              "      <td>0.783647</td>\n",
              "    </tr>\n",
              "    <tr>\n",
              "      <th>macro avg</th>\n",
              "      <td>0.721561</td>\n",
              "      <td>0.720388</td>\n",
              "      <td>0.720968</td>\n",
              "      <td>1382.000000</td>\n",
              "    </tr>\n",
              "    <tr>\n",
              "      <th>weighted avg</th>\n",
              "      <td>0.783081</td>\n",
              "      <td>0.783647</td>\n",
              "      <td>0.783360</td>\n",
              "      <td>1382.000000</td>\n",
              "    </tr>\n",
              "    <tr>\n",
              "      <th rowspan=\"5\" valign=\"top\">LinearSVC</th>\n",
              "      <th>0</th>\n",
              "      <td>0.843750</td>\n",
              "      <td>0.796460</td>\n",
              "      <td>0.819423</td>\n",
              "      <td>1017.000000</td>\n",
              "    </tr>\n",
              "    <tr>\n",
              "      <th>1</th>\n",
              "      <td>0.509479</td>\n",
              "      <td>0.589041</td>\n",
              "      <td>0.546379</td>\n",
              "      <td>365.000000</td>\n",
              "    </tr>\n",
              "    <tr>\n",
              "      <th>accuracy</th>\n",
              "      <td>0.741679</td>\n",
              "      <td>0.741679</td>\n",
              "      <td>0.741679</td>\n",
              "      <td>0.741679</td>\n",
              "    </tr>\n",
              "    <tr>\n",
              "      <th>macro avg</th>\n",
              "      <td>0.676614</td>\n",
              "      <td>0.692751</td>\n",
              "      <td>0.682901</td>\n",
              "      <td>1382.000000</td>\n",
              "    </tr>\n",
              "    <tr>\n",
              "      <th>weighted avg</th>\n",
              "      <td>0.755466</td>\n",
              "      <td>0.741679</td>\n",
              "      <td>0.747310</td>\n",
              "      <td>1382.000000</td>\n",
              "    </tr>\n",
              "    <tr>\n",
              "      <th rowspan=\"5\" valign=\"top\">GaussianNB</th>\n",
              "      <th>0</th>\n",
              "      <td>0.797768</td>\n",
              "      <td>0.562439</td>\n",
              "      <td>0.659746</td>\n",
              "      <td>1017.000000</td>\n",
              "    </tr>\n",
              "    <tr>\n",
              "      <th>1</th>\n",
              "      <td>0.330827</td>\n",
              "      <td>0.602740</td>\n",
              "      <td>0.427184</td>\n",
              "      <td>365.000000</td>\n",
              "    </tr>\n",
              "    <tr>\n",
              "      <th>accuracy</th>\n",
              "      <td>0.573082</td>\n",
              "      <td>0.573082</td>\n",
              "      <td>0.573082</td>\n",
              "      <td>0.573082</td>\n",
              "    </tr>\n",
              "    <tr>\n",
              "      <th>macro avg</th>\n",
              "      <td>0.564298</td>\n",
              "      <td>0.582589</td>\n",
              "      <td>0.543465</td>\n",
              "      <td>1382.000000</td>\n",
              "    </tr>\n",
              "    <tr>\n",
              "      <th>weighted avg</th>\n",
              "      <td>0.674445</td>\n",
              "      <td>0.573082</td>\n",
              "      <td>0.598324</td>\n",
              "      <td>1382.000000</td>\n",
              "    </tr>\n",
              "    <tr>\n",
              "      <th rowspan=\"5\" valign=\"top\">SGDClassifier</th>\n",
              "      <th>0</th>\n",
              "      <td>0.845998</td>\n",
              "      <td>0.821042</td>\n",
              "      <td>0.833333</td>\n",
              "      <td>1017.000000</td>\n",
              "    </tr>\n",
              "    <tr>\n",
              "      <th>1</th>\n",
              "      <td>0.539241</td>\n",
              "      <td>0.583562</td>\n",
              "      <td>0.560526</td>\n",
              "      <td>365.000000</td>\n",
              "    </tr>\n",
              "    <tr>\n",
              "      <th>accuracy</th>\n",
              "      <td>0.758321</td>\n",
              "      <td>0.758321</td>\n",
              "      <td>0.758321</td>\n",
              "      <td>0.758321</td>\n",
              "    </tr>\n",
              "    <tr>\n",
              "      <th>macro avg</th>\n",
              "      <td>0.692619</td>\n",
              "      <td>0.702302</td>\n",
              "      <td>0.696930</td>\n",
              "      <td>1382.000000</td>\n",
              "    </tr>\n",
              "    <tr>\n",
              "      <th>weighted avg</th>\n",
              "      <td>0.764980</td>\n",
              "      <td>0.758321</td>\n",
              "      <td>0.761282</td>\n",
              "      <td>1382.000000</td>\n",
              "    </tr>\n",
              "    <tr>\n",
              "      <th rowspan=\"5\" valign=\"top\">KNeighborsClassifier</th>\n",
              "      <th>0</th>\n",
              "      <td>0.783961</td>\n",
              "      <td>0.941986</td>\n",
              "      <td>0.855739</td>\n",
              "      <td>1017.000000</td>\n",
              "    </tr>\n",
              "    <tr>\n",
              "      <th>1</th>\n",
              "      <td>0.631250</td>\n",
              "      <td>0.276712</td>\n",
              "      <td>0.384762</td>\n",
              "      <td>365.000000</td>\n",
              "    </tr>\n",
              "    <tr>\n",
              "      <th>accuracy</th>\n",
              "      <td>0.766281</td>\n",
              "      <td>0.766281</td>\n",
              "      <td>0.766281</td>\n",
              "      <td>0.766281</td>\n",
              "    </tr>\n",
              "    <tr>\n",
              "      <th>macro avg</th>\n",
              "      <td>0.707605</td>\n",
              "      <td>0.609349</td>\n",
              "      <td>0.620251</td>\n",
              "      <td>1382.000000</td>\n",
              "    </tr>\n",
              "    <tr>\n",
              "      <th>weighted avg</th>\n",
              "      <td>0.743628</td>\n",
              "      <td>0.766281</td>\n",
              "      <td>0.731349</td>\n",
              "      <td>1382.000000</td>\n",
              "    </tr>\n",
              "    <tr>\n",
              "      <th rowspan=\"5\" valign=\"top\">DecisionTreeClassifier</th>\n",
              "      <th>0</th>\n",
              "      <td>0.853125</td>\n",
              "      <td>0.805310</td>\n",
              "      <td>0.828528</td>\n",
              "      <td>1017.000000</td>\n",
              "    </tr>\n",
              "    <tr>\n",
              "      <th>1</th>\n",
              "      <td>0.530806</td>\n",
              "      <td>0.613699</td>\n",
              "      <td>0.569250</td>\n",
              "      <td>365.000000</td>\n",
              "    </tr>\n",
              "    <tr>\n",
              "      <th>accuracy</th>\n",
              "      <td>0.754703</td>\n",
              "      <td>0.754703</td>\n",
              "      <td>0.754703</td>\n",
              "      <td>0.754703</td>\n",
              "    </tr>\n",
              "    <tr>\n",
              "      <th>macro avg</th>\n",
              "      <td>0.691965</td>\n",
              "      <td>0.709504</td>\n",
              "      <td>0.698889</td>\n",
              "      <td>1382.000000</td>\n",
              "    </tr>\n",
              "    <tr>\n",
              "      <th>weighted avg</th>\n",
              "      <td>0.767997</td>\n",
              "      <td>0.754703</td>\n",
              "      <td>0.760050</td>\n",
              "      <td>1382.000000</td>\n",
              "    </tr>\n",
              "    <tr>\n",
              "      <th rowspan=\"5\" valign=\"top\">RandomForestClassifier</th>\n",
              "      <th>0</th>\n",
              "      <td>0.858365</td>\n",
              "      <td>0.887906</td>\n",
              "      <td>0.872885</td>\n",
              "      <td>1017.000000</td>\n",
              "    </tr>\n",
              "    <tr>\n",
              "      <th>1</th>\n",
              "      <td>0.654545</td>\n",
              "      <td>0.591781</td>\n",
              "      <td>0.621583</td>\n",
              "      <td>365.000000</td>\n",
              "    </tr>\n",
              "    <tr>\n",
              "      <th>accuracy</th>\n",
              "      <td>0.809696</td>\n",
              "      <td>0.809696</td>\n",
              "      <td>0.809696</td>\n",
              "      <td>0.809696</td>\n",
              "    </tr>\n",
              "    <tr>\n",
              "      <th>macro avg</th>\n",
              "      <td>0.756455</td>\n",
              "      <td>0.739843</td>\n",
              "      <td>0.747234</td>\n",
              "      <td>1382.000000</td>\n",
              "    </tr>\n",
              "    <tr>\n",
              "      <th>weighted avg</th>\n",
              "      <td>0.804534</td>\n",
              "      <td>0.809696</td>\n",
              "      <td>0.806514</td>\n",
              "      <td>1382.000000</td>\n",
              "    </tr>\n",
              "    <tr>\n",
              "      <th rowspan=\"5\" valign=\"top\">MLPClassifier</th>\n",
              "      <th>0</th>\n",
              "      <td>0.844614</td>\n",
              "      <td>0.871190</td>\n",
              "      <td>0.857696</td>\n",
              "      <td>1017.000000</td>\n",
              "    </tr>\n",
              "    <tr>\n",
              "      <th>1</th>\n",
              "      <td>0.606607</td>\n",
              "      <td>0.553425</td>\n",
              "      <td>0.578797</td>\n",
              "      <td>365.000000</td>\n",
              "    </tr>\n",
              "    <tr>\n",
              "      <th>accuracy</th>\n",
              "      <td>0.787265</td>\n",
              "      <td>0.787265</td>\n",
              "      <td>0.787265</td>\n",
              "      <td>0.787265</td>\n",
              "    </tr>\n",
              "    <tr>\n",
              "      <th>macro avg</th>\n",
              "      <td>0.725610</td>\n",
              "      <td>0.712307</td>\n",
              "      <td>0.718246</td>\n",
              "      <td>1382.000000</td>\n",
              "    </tr>\n",
              "    <tr>\n",
              "      <th>weighted avg</th>\n",
              "      <td>0.781754</td>\n",
              "      <td>0.787265</td>\n",
              "      <td>0.784036</td>\n",
              "      <td>1382.000000</td>\n",
              "    </tr>\n",
              "  </tbody>\n",
              "</table>\n",
              "</div>"
            ],
            "text/plain": [
              "                                     precision    recall  f1-score      support\n",
              "LogisticRegression     0              0.851961  0.854474  0.853216  1017.000000\n",
              "                       1              0.591160  0.586301  0.588721   365.000000\n",
              "                       accuracy       0.783647  0.783647  0.783647     0.783647\n",
              "                       macro avg      0.721561  0.720388  0.720968  1382.000000\n",
              "                       weighted avg   0.783081  0.783647  0.783360  1382.000000\n",
              "LinearSVC              0              0.843750  0.796460  0.819423  1017.000000\n",
              "                       1              0.509479  0.589041  0.546379   365.000000\n",
              "                       accuracy       0.741679  0.741679  0.741679     0.741679\n",
              "                       macro avg      0.676614  0.692751  0.682901  1382.000000\n",
              "                       weighted avg   0.755466  0.741679  0.747310  1382.000000\n",
              "GaussianNB             0              0.797768  0.562439  0.659746  1017.000000\n",
              "                       1              0.330827  0.602740  0.427184   365.000000\n",
              "                       accuracy       0.573082  0.573082  0.573082     0.573082\n",
              "                       macro avg      0.564298  0.582589  0.543465  1382.000000\n",
              "                       weighted avg   0.674445  0.573082  0.598324  1382.000000\n",
              "SGDClassifier          0              0.845998  0.821042  0.833333  1017.000000\n",
              "                       1              0.539241  0.583562  0.560526   365.000000\n",
              "                       accuracy       0.758321  0.758321  0.758321     0.758321\n",
              "                       macro avg      0.692619  0.702302  0.696930  1382.000000\n",
              "                       weighted avg   0.764980  0.758321  0.761282  1382.000000\n",
              "KNeighborsClassifier   0              0.783961  0.941986  0.855739  1017.000000\n",
              "                       1              0.631250  0.276712  0.384762   365.000000\n",
              "                       accuracy       0.766281  0.766281  0.766281     0.766281\n",
              "                       macro avg      0.707605  0.609349  0.620251  1382.000000\n",
              "                       weighted avg   0.743628  0.766281  0.731349  1382.000000\n",
              "DecisionTreeClassifier 0              0.853125  0.805310  0.828528  1017.000000\n",
              "                       1              0.530806  0.613699  0.569250   365.000000\n",
              "                       accuracy       0.754703  0.754703  0.754703     0.754703\n",
              "                       macro avg      0.691965  0.709504  0.698889  1382.000000\n",
              "                       weighted avg   0.767997  0.754703  0.760050  1382.000000\n",
              "RandomForestClassifier 0              0.858365  0.887906  0.872885  1017.000000\n",
              "                       1              0.654545  0.591781  0.621583   365.000000\n",
              "                       accuracy       0.809696  0.809696  0.809696     0.809696\n",
              "                       macro avg      0.756455  0.739843  0.747234  1382.000000\n",
              "                       weighted avg   0.804534  0.809696  0.806514  1382.000000\n",
              "MLPClassifier          0              0.844614  0.871190  0.857696  1017.000000\n",
              "                       1              0.606607  0.553425  0.578797   365.000000\n",
              "                       accuracy       0.787265  0.787265  0.787265     0.787265\n",
              "                       macro avg      0.725610  0.712307  0.718246  1382.000000\n",
              "                       weighted avg   0.781754  0.787265  0.784036  1382.000000"
            ]
          },
          "metadata": {
            "tags": []
          },
          "execution_count": 43
        }
      ]
    }
  ]
}